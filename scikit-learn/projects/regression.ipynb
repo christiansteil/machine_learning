{
 "cells": [
  {
   "cell_type": "code",
   "execution_count": 52,
   "id": "804cd3b6-69d8-4e86-abbb-9043df596b24",
   "metadata": {},
   "outputs": [],
   "source": [
    "from sklearn.datasets import load_diabetes\n",
    "from sklearn.neighbors import KNeighborsRegressor\n",
    "from sklearn.linear_model import LinearRegression\n",
    "from sklearn.linear_model import Ridge\n",
    "from sklearn.preprocessing import StandardScaler\n",
    "from sklearn.preprocessing import Normalizer\n",
    "from sklearn.pipeline import Pipeline\n",
    "from sklearn.model_selection import GridSearchCV\n",
    "from sklearn.model_selection import train_test_split\n",
    "from sklearn.metrics import mean_squared_error\n",
    "\n",
    "import matplotlib.pyplot as plt"
   ]
  },
  {
   "cell_type": "code",
   "execution_count": 36,
   "id": "a0aa45f8-8819-437f-b71c-223b07d44edd",
   "metadata": {},
   "outputs": [],
   "source": [
    "X, y = load_diabetes(return_X_y=True)\n",
    "X_train, X_test, y_train, y_test = train_test_split(X, y, test_size=.25, random_state=1)"
   ]
  },
  {
   "cell_type": "code",
   "execution_count": 54,
   "id": "c154659d-3941-45d2-830f-3cb5c5125fd9",
   "metadata": {},
   "outputs": [],
   "source": [
    "pipe = Pipeline([\n",
    "    (\"scale\", StandardScaler()),\n",
    "    (\"model\", LinearRegression())\n",
    "])\n",
    "\n",
    "pipe2 = Pipeline([\n",
    "    (\"scale\", Normalizer()),\n",
    "    (\"model\", LinearRegression())\n",
    "])\n",
    "\n",
    "pipe3 = Pipeline([\n",
    "    (\"scale\", StandardScaler()),\n",
    "    (\"model\", KNeighborsRegressor())\n",
    "])\n",
    "\n",
    "pipe4 = Pipeline([\n",
    "    (\"scale\", Normalizer()),\n",
    "    (\"model\", KNeighborsRegressor())\n",
    "])\n",
    "\n",
    "pipe5 = Pipeline([\n",
    "    (\"scale\", StandardScaler()),\n",
    "    (\"model\", Ridge())\n",
    "])\n",
    "\n",
    "pipe6 = Pipeline([\n",
    "    (\"scale\", Normalizer()),\n",
    "    (\"model\", Ridge())\n",
    "])"
   ]
  },
  {
   "cell_type": "code",
   "execution_count": 56,
   "id": "52734353-6f1f-4363-b57e-71cac7587246",
   "metadata": {},
   "outputs": [],
   "source": [
    "mod = pipe.fit(X_train, y_train)\n",
    "\n",
    "mod2 = pipe2.fit(X_train, y_train)\n",
    "\n",
    "mod3 = GridSearchCV(estimator=pipe3,\n",
    "             param_grid={'model__n_neighbors': [i for i in range(1, 20)]}).fit(X, y)\n",
    "mod4 = GridSearchCV(estimator=pipe4,\n",
    "             param_grid={'model__n_neighbors': [i for i in range(1, 20)]}).fit(X, y)\n",
    "mod5 = pipe5.fit(X_train, y_train)\n",
    "mod6 = pipe6.fit(X_train, y_train)"
   ]
  },
  {
   "cell_type": "code",
   "execution_count": 57,
   "id": "a53f999c-fad5-418a-a73c-83f20fcb8cf7",
   "metadata": {},
   "outputs": [],
   "source": [
    "pred = mod.predict(X_test)\n",
    "pred2 = mod2.predict(X_test)\n",
    "pred3 = mod3.predict(X_test)\n",
    "pred4 = mod4.predict(X_test)\n",
    "pred5 = mod5.predict(X_test)\n",
    "pred6 = mod6.predict(X_test)"
   ]
  },
  {
   "cell_type": "code",
   "execution_count": 58,
   "id": "7f3c14b9-9ffc-441f-a628-2ccf57b28201",
   "metadata": {},
   "outputs": [],
   "source": [
    "score = mean_squared_error(y_test, pred)\n",
    "score2 = mean_squared_error(y_test, pred2)\n",
    "score3 = mean_squared_error(y_test, pred3)\n",
    "score4 = mean_squared_error(y_test, pred4)\n",
    "score5 = mean_squared_error(y_test, pred5)\n",
    "score6 = mean_squared_error(y_test, pred6)"
   ]
  },
  {
   "cell_type": "code",
   "execution_count": 59,
   "id": "42fb9ca3-7d01-4368-a002-449b3facaeae",
   "metadata": {},
   "outputs": [
    {
     "name": "stdout",
     "output_type": "stream",
     "text": [
      "2903.1000013227986\n",
      "3131.2743040154564\n",
      "2721.563963963964\n",
      "3054.0254699143597\n",
      "2913.9051878677215\n",
      "3108.8746326599844\n"
     ]
    }
   ],
   "source": [
    "print(score)\n",
    "print(score2)\n",
    "print(score3)\n",
    "print(score4)\n",
    "print(score5)\n",
    "print(score6)"
   ]
  },
  {
   "cell_type": "code",
   "execution_count": null,
   "id": "a9a33508-4adc-4282-873c-cc9c210badb0",
   "metadata": {},
   "outputs": [],
   "source": []
  }
 ],
 "metadata": {
  "kernelspec": {
   "display_name": "Python 3.10.8",
   "language": "python",
   "name": "python3"
  },
  "language_info": {
   "codemirror_mode": {
    "name": "ipython",
    "version": 3
   },
   "file_extension": ".py",
   "mimetype": "text/x-python",
   "name": "python",
   "nbconvert_exporter": "python",
   "pygments_lexer": "ipython3",
   "version": "3.10.8"
  },
  "vscode": {
   "interpreter": {
    "hash": "13f65ad78da19842005bce12f696777fc05671b290d8a21f0e37df9dbd56b8f4"
   }
  }
 },
 "nbformat": 4,
 "nbformat_minor": 5
}
